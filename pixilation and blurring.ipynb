{
 "cells": [
  {
   "cell_type": "code",
   "execution_count": 1,
   "id": "c6e7b208",
   "metadata": {},
   "outputs": [],
   "source": [
    "from PIL import Image\n",
    "img = Image.open(\"photo.jpeg\")\n",
    "img.show()"
   ]
  },
  {
   "cell_type": "code",
   "execution_count": 2,
   "id": "7434facc",
   "metadata": {},
   "outputs": [],
   "source": [
    "imgSmall = img.resize((20,20),resample=Image.BILINEAR)\n",
    "result = imgSmall.resize(img.size,Image.NEAREST)\n",
    "result.save('result1.png')"
   ]
  },
  {
   "cell_type": "code",
   "execution_count": 3,
   "id": "b7cd1054",
   "metadata": {},
   "outputs": [],
   "source": [
    "result.show()"
   ]
  },
  {
   "cell_type": "code",
   "execution_count": 4,
   "id": "fc871095",
   "metadata": {},
   "outputs": [],
   "source": [
    "import cv2"
   ]
  },
  {
   "cell_type": "code",
   "execution_count": 5,
   "id": "bfacb652",
   "metadata": {},
   "outputs": [],
   "source": [
    "frame_width=400\n",
    "frame_height=400\n",
    "outputfilename=\"output_file3.mp4\"\n",
    "fourcc =cv2.VideoWriter_fourcc(*'mp4v')\n",
    "out= cv2.VideoWriter(outputfilename, fourcc, 10, (frame_width, frame_height))"
   ]
  },
  {
   "cell_type": "code",
   "execution_count": 6,
   "id": "0a8a3b0d",
   "metadata": {},
   "outputs": [
    {
     "data": {
      "text/plain": [
       "True"
      ]
     },
     "execution_count": 6,
     "metadata": {},
     "output_type": "execute_result"
    }
   ],
   "source": [
    "cap = cv2.VideoCapture('C:/Users/Mr/Desktop/ISM Project/video_trial.mp4')\n",
    "if(cap.isOpened()==False):\n",
    "    print(\"Error in opening video stream or file\")\n",
    "img=1\n",
    "count=0\n",
    "while True:\n",
    "    count=count+2\n",
    "    count=count%10\n",
    "    ret, image_np=cap.read()\n",
    "    if(ret==True):\n",
    "        if(count==2 or count==8 or count==4 or count==6):\n",
    "            cv2.resize((image_np),(400,400))\n",
    "            temp = cv2.resize(image_np, (30, 30), interpolation=cv2.INTER_LINEAR)\n",
    "            result = cv2.resize(temp, (400, 400), interpolation=cv2.INTER_NEAREST)\n",
    "            cv2.imshow('image',result)\n",
    "            out.write(result)\n",
    "            if cv2.waitKey(2) & 0xFF == ord('q'):\n",
    "                break\n",
    "        else:\n",
    "            break\n",
    "cap.release()\n",
    "out.release()\n",
    "cv2.destroyAllWindows()\n",
    "\n",
    "frame_width=400\n",
    "frame_height=400\n",
    "outputfilename=\"output_file4.mp4\"\n",
    "fourcc =cv2.VideoWriter_fourcc(*'mp4v')\n",
    "out2= cv2.VideoWriter(outputfilename, fourcc, 10, (frame_width, frame_height))\n",
    "\n",
    "\n",
    "\n",
    "\n",
    "img = cv2.imread(\"image.jpg\")\n",
    "img=cv2.resize((img),(400,400))\n",
    "avging = cv2.blur(img,(100,100))\n",
    "result = cv2.resize(avging, (400, 400), interpolation=cv2.INTER_NEAREST)\n",
    "cv2.imwrite('result.png', result)"
   ]
  },
  {
   "cell_type": "code",
   "execution_count": null,
   "id": "41fe5d49",
   "metadata": {},
   "outputs": [],
   "source": [
    "import cv2\n",
    "cap = cv2.VideoCapture('C:/Users/Mr/Desktop/ISM Project/video_trial.mp4')\n",
    "if(cap.isOpened()==False):\n",
    "    print(\"Error in opening video stream or file\")\n",
    "    img=1\n",
    "    count=0\n",
    "while True:\n",
    "    count=count+2\n",
    "    count=count%10\n",
    "    ret, image_np=cap.read()\n",
    "if(ret==True):\n",
    "    if(count==2 or count==8 or count==4 or count==6):\n",
    "        cv2.resize((image_np),(400,400))\n",
    "        cv2.namedWindow(\"image\", cv2.WINDOW_NORMAL)\n",
    "        cv2.resizeWindow(\"output\", 400, 400)\n",
    "        cv2.imshow('image',image_np)\n",
    "        if cv2.waitKey(2) & 0xFF == ord('q'):\n",
    "            break\n",
    "        else:\n",
    "            break\n",
    "cap.release()\n",
    "cv2.destroyAllWindows()"
   ]
  },
  {
   "cell_type": "code",
   "execution_count": null,
   "id": "06b935d6",
   "metadata": {},
   "outputs": [],
   "source": [
    "# "
   ]
  }
 ],
 "metadata": {
  "kernelspec": {
   "display_name": "Python 3",
   "language": "python",
   "name": "python3"
  },
  "language_info": {
   "codemirror_mode": {
    "name": "ipython",
    "version": 3
   },
   "file_extension": ".py",
   "mimetype": "text/x-python",
   "name": "python",
   "nbconvert_exporter": "python",
   "pygments_lexer": "ipython3",
   "version": "3.8.8"
  }
 },
 "nbformat": 4,
 "nbformat_minor": 5
}
